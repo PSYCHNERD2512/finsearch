{
  "nbformat": 4,
  "nbformat_minor": 0,
  "metadata": {
    "colab": {
      "provenance": [],
      "include_colab_link": true
    },
    "kernelspec": {
      "name": "python3",
      "display_name": "Python 3"
    },
    "language_info": {
      "name": "python"
    }
  },
  "cells": [
    {
      "cell_type": "markdown",
      "metadata": {
        "id": "view-in-github",
        "colab_type": "text"
      },
      "source": [
        "<a href=\"https://colab.research.google.com/github/PSYCHNERD2512/finsearch/blob/main/finsearch.ipynb\" target=\"_parent\"><img src=\"https://colab.research.google.com/assets/colab-badge.svg\" alt=\"Open In Colab\"/></a>"
      ]
    },
    {
      "cell_type": "code",
      "source": [
        "pip install pandas_ta"
      ],
      "metadata": {
        "colab": {
          "base_uri": "https://localhost:8080/"
        },
        "id": "qfUhi-ttmKbA",
        "outputId": "1710209f-7928-4e91-f009-96833c5a6d93"
      },
      "execution_count": null,
      "outputs": [
        {
          "output_type": "stream",
          "name": "stdout",
          "text": [
            "Requirement already satisfied: pandas_ta in /usr/local/lib/python3.10/dist-packages (0.3.14b0)\n",
            "Requirement already satisfied: pandas in /usr/local/lib/python3.10/dist-packages (from pandas_ta) (1.5.3)\n",
            "Requirement already satisfied: python-dateutil>=2.8.1 in /usr/local/lib/python3.10/dist-packages (from pandas->pandas_ta) (2.8.2)\n",
            "Requirement already satisfied: pytz>=2020.1 in /usr/local/lib/python3.10/dist-packages (from pandas->pandas_ta) (2023.3)\n",
            "Requirement already satisfied: numpy>=1.21.0 in /usr/local/lib/python3.10/dist-packages (from pandas->pandas_ta) (1.23.5)\n",
            "Requirement already satisfied: six>=1.5 in /usr/local/lib/python3.10/dist-packages (from python-dateutil>=2.8.1->pandas->pandas_ta) (1.16.0)\n"
          ]
        }
      ]
    },
    {
      "cell_type": "code",
      "execution_count": null,
      "metadata": {
        "id": "SNHOftoljo3A"
      },
      "outputs": [],
      "source": [
        "import numpy as np\n",
        "import pandas as pd\n",
        "import yfinance as yf\n",
        "import pandas_ta as ta\n",
        "import datetime as dt"
      ]
    },
    {
      "cell_type": "code",
      "source": [
        "start = dt.datetime(2021,1,1)\n",
        "end = dt.datetime(2023,8,25)"
      ],
      "metadata": {
        "id": "j6SGGHFSj2KW"
      },
      "execution_count": null,
      "outputs": []
    },
    {
      "cell_type": "code",
      "source": [
        "df = yf.download('^NSEBANK', start, end)\n",
        "csv_file = df.to_csv('NSEBANK.csv')\n",
        "df = pd.read_csv('NSEBANK.csv')"
      ],
      "metadata": {
        "colab": {
          "base_uri": "https://localhost:8080/"
        },
        "id": "ZG1D9zUvmWw_",
        "outputId": "61fc9743-233f-47de-efef-6848be67bd2a"
      },
      "execution_count": null,
      "outputs": [
        {
          "output_type": "stream",
          "name": "stdout",
          "text": [
            "\r[*********************100%%**********************]  1 of 1 completed\n"
          ]
        }
      ]
    },
    {
      "cell_type": "code",
      "source": [
        "arr_close = np.array(df['Close'])\n",
        "arr_high = np.array(df['High'])\n",
        "arr_open = np.array(df['Open'])\n",
        "arr_low = np.array(df['Low'])"
      ],
      "metadata": {
        "id": "-1jVMB_Xmxbx"
      },
      "execution_count": null,
      "outputs": []
    },
    {
      "cell_type": "code",
      "source": [
        "arr_rsi = np.array(ta.rsi(df['Close'], length=14))\n",
        "arr_macd = ta.macd(df['Close'], fast=12, slow=26, signal=9)\n",
        "arr_macd = np.array(arr_macd['MACDh_12_26_9'])\n",
        "\n",
        "df['RSI'] = arr_rsi\n",
        "df['MACD'] = arr_macd\n",
        "df = df.fillna(0)\n",
        "\n",
        "arr_rsi = np.array(df['RSI'])\n",
        "arr_macd = np.array(df['MACD'])"
      ],
      "metadata": {
        "id": "tA1r8jI4nJQw"
      },
      "execution_count": null,
      "outputs": []
    },
    {
      "cell_type": "code",
      "source": [
        "buy_dates=[]\n",
        "sell_dates=[]\n",
        "buy_prices=[]\n",
        "sell_prices=[]\n",
        "profit=np.array([])\n",
        "loss=np.array([])\n",
        "no_of_stocks=0\n",
        "no_of_trades=0\n",
        "\n",
        "for i in range(len(arr_close)) :\n",
        "  if arr_rsi[i]!=0 and arr_macd[i]!=0 :\n",
        "\n",
        "    if arr_macd[i-1]<0 and arr_macd[i]>0:\n",
        "      buy_dates.append(df['Date'][i])\n",
        "      buy_prices.append(df['Close'][i])\n",
        "      no_of_stocks = no_of_stocks+1\n",
        "      no_of_trades+=1\n",
        "\n",
        "    elif arr_rsi[i]>65:\n",
        "      if arr_rsi[i-1]<arr_rsi[i] and arr_rsi[i]>arr_rsi[i+1] and no_of_stocks!=0 :\n",
        "        for j in range(no_of_stocks):\n",
        "          sell_dates.append(df['Date'][i])\n",
        "          sell_prices.append(df['Close'][i])\n",
        "          no_of_stocks=0\n",
        "        no_of_trades+=1\n",
        "\n",
        "net=0\n",
        "\n",
        "for k in range(len(sell_prices)):\n",
        "  net += sell_prices[k]-buy_prices[k]\n",
        "  if sell_prices[k]>=buy_prices[k]:\n",
        "    profit = np.append(profit, sell_prices[k]-buy_prices[k])\n",
        "  elif sell_prices[k]<buy_prices[k]:\n",
        "    loss = np.append(loss, buy_prices[k]-sell_prices[k])\n",
        "\n",
        "print('net gain/loss    =',net)\n",
        "print('max profit       =', np.sum(profit))\n",
        "print('max loss         =', np.sum(loss))\n",
        "print('profit factor    =', np.sum(profit)/np.sum(loss))\n",
        "print('profit per trade =', net/no_of_trades)\n",
        "print('no of trades     =', no_of_trades)\n"
      ],
      "metadata": {
        "colab": {
          "base_uri": "https://localhost:8080/"
        },
        "id": "taSqX2opsPa9",
        "outputId": "10d63d16-2e2c-44a3-b98a-851dc2eebbdb"
      },
      "execution_count": null,
      "outputs": [
        {
          "output_type": "stream",
          "name": "stdout",
          "text": [
            "net gain/loss    = 23783.095703125\n",
            "max profit       = 27194.099609375\n",
            "max loss         = 3411.00390625\n",
            "profit factor    = 7.972462171487729\n",
            "profit per trade = 679.5170200892857\n",
            "no of trades     = 35\n"
          ]
        }
      ]
    }
  ]
}